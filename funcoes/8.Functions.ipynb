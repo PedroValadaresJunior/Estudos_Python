{
 "cells": [
  {
   "cell_type": "markdown",
   "metadata": {},
   "source": [
    "Usamos a declaração `def` para definir uma função."
   ]
  },
  {
   "cell_type": "code",
   "execution_count": 9,
   "metadata": {},
   "outputs": [
    {
     "data": {
      "text/plain": [
       "7"
      ]
     },
     "execution_count": 9,
     "metadata": {},
     "output_type": "execute_result"
    }
   ],
   "source": [
    "def remainder(a, b):\n",
    "    q = a // b      # Divisão inteira\n",
    "    r = a - q * b\n",
    "    return r\n",
    "\n",
    "result = remainder(37, 15)\n",
    "result"
   ]
  },
  {
   "cell_type": "markdown",
   "metadata": {},
   "source": [
    "Uma prática comum para uma função é incluir uma documentação string como primeira declaração."
   ]
  },
  {
   "cell_type": "code",
   "execution_count": 6,
   "metadata": {},
   "outputs": [
    {
     "data": {
      "text/plain": [
       "1"
      ]
     },
     "execution_count": 6,
     "metadata": {},
     "output_type": "execute_result"
    }
   ],
   "source": [
    "def remainder(a, b):\n",
    "    '''\n",
    "    Calcula o restante da divisão de a por b\n",
    "    '''\n",
    "    q = a // b\n",
    "    r = a - q * b\n",
    "    return r"
   ]
  },
  {
   "cell_type": "markdown",
   "metadata": {},
   "source": [
    "Se as entradas e saídas de uma função não são claras a partir de seus nomes, eles podem ser\n",
    "anotado com tipos:\n"
   ]
  },
  {
   "cell_type": "code",
   "execution_count": 17,
   "metadata": {},
   "outputs": [
    {
     "data": {
      "text/plain": [
       "-0.9000000000000057"
      ]
     },
     "execution_count": 17,
     "metadata": {},
     "output_type": "execute_result"
    }
   ],
   "source": [
    "# Para a função abaixo, não é que vai converter o valor para inteiros, mas sim que a função espera que \n",
    "# você passe um valor inteiro e não do tipo float.\n",
    "\n",
    "def remainder(a: int, b: int) -> int:\n",
    "    '''\n",
    "    Calcula o restante da divisão de a por b\n",
    "    '''\n",
    "    q = a // b\n",
    "    r = a - q * b\n",
    "    return r\n",
    "\n",
    "# \n",
    "result = remainder(37.5, 3.2)\n",
    "result"
   ]
  },
  {
   "cell_type": "markdown",
   "metadata": {},
   "source": [
    "Podemos usar uma `tupla` para retornar múltiplos valores de uma função:"
   ]
  },
  {
   "cell_type": "code",
   "execution_count": 19,
   "metadata": {},
   "outputs": [
    {
     "name": "stdout",
     "output_type": "stream",
     "text": [
      "44\n",
      "4\n"
     ]
    }
   ],
   "source": [
    "def devide(a, b):\n",
    "    q = a // b          # se a e b são inteiros, então q também será inteiro\n",
    "    r = a - q * b\n",
    "    return (q, r)\n",
    "\n",
    "# Quando múltiplos valoress são retornados em um tupla, eles podem ser separado em variáveis como:\n",
    "quotient, remainder = devide(1456, 33)\n",
    "\n",
    "print(quotient)\n",
    "print(remainder)"
   ]
  },
  {
   "cell_type": "markdown",
   "metadata": {},
   "source": [
    "Para atribuir um valor padrão a um parâmetro de função, use assignment:\n",
    "\n",
    "`Argumento Default`"
   ]
  },
  {
   "cell_type": "code",
   "execution_count": null,
   "metadata": {},
   "outputs": [],
   "source": [
    "def connect(hostname, port, timeout = 300):\n",
    "    # Corpo da função\n",
    "    ...\n",
    "\n",
    "# Quando valores default são dados em uma definição da função, ele podem ser omitidos\n",
    "# da chamada a função subsequente.\n",
    "connect('www.python.org', 80)\n",
    "connect('www.python.org', 80, 500)     \n",
    "\n",
    "\n",
    "# 500 é o tempo máximo em segundos que precisa esperar até desistir da conexão. O default é 300 seg."
   ]
  },
  {
   "cell_type": "markdown",
   "metadata": {},
   "source": [
    "Argumentos default frequentemente são usados para características opcionais. \n",
    "Se há muitos argumentos, recomendamos especificar estes argumentos usando palavras chave."
   ]
  },
  {
   "cell_type": "code",
   "execution_count": null,
   "metadata": {},
   "outputs": [],
   "source": [
    "connect('www.python.org', 80, timeout = 500)"
   ]
  },
  {
   "cell_type": "code",
   "execution_count": 1,
   "metadata": {},
   "outputs": [
    {
     "name": "stdout",
     "output_type": "stream",
     "text": [
      "Conectado a www.python.org:80\n"
     ]
    },
    {
     "data": {
      "text/plain": [
       "<socket.socket fd=68, family=2, type=1, proto=0, laddr=('192.168.15.62', 47684), raddr=('151.101.92.223', 80)>"
      ]
     },
     "execution_count": 1,
     "metadata": {},
     "output_type": "execute_result"
    }
   ],
   "source": [
    "import socket\n",
    "\n",
    "def connect(hostname, port, timeout=300):\n",
    "    try:\n",
    "        # Cria um objeto socket\n",
    "        sock = socket.socket(socket.AF_INET, socket.SOCK_STREAM)\n",
    "        # Define o timeout\n",
    "        sock.settimeout(timeout)\n",
    "        # Tenta conectar ao hostname e porta\n",
    "        sock.connect((hostname, port))\n",
    "        print(f\"Conectado a {hostname}:{port}\")\n",
    "        return sock\n",
    "    except socket.error as err:\n",
    "        print(f\"Erro ao conectar a {hostname}:{port} - {err}\")\n",
    "        return None\n",
    "\n",
    "# Exemplos de uso\n",
    "connect('www.python.org', 80)\n",
    "# connect('www.python.org', 80, 500)"
   ]
  },
  {
   "cell_type": "markdown",
   "metadata": {},
   "source": [
    "Quando variáveis são criadas ou atribuidas dentro da função, seu escopo é `local`. Quando variáveis são atribuídas fora\n",
    "da função, chamamos de variável `global`."
   ]
  },
  {
   "cell_type": "code",
   "execution_count": null,
   "metadata": {},
   "outputs": [],
   "source": [
    "def read_data(filename):\n",
    "    if debug:\n",
    "        print('Reading', filename)\n",
    "    ..."
   ]
  },
  {
   "cell_type": "code",
   "execution_count": 19,
   "metadata": {},
   "outputs": [
    {
     "name": "stdout",
     "output_type": "stream",
     "text": [
      "Seu IMC é: 27.34\n"
     ]
    }
   ],
   "source": [
    "# Usando função para calcular o IMC\n",
    "def calc_imc(peso, altura):\n",
    "    imc = peso / pow(altura, 2)\n",
    "    return imc\n",
    "\n",
    "resultado = calc_imc(70, 1.60)\n",
    "print('Seu IMC é: {:.2f}' .format(resultado))"
   ]
  },
  {
   "cell_type": "code",
   "execution_count": 22,
   "metadata": {},
   "outputs": [
    {
     "name": "stdout",
     "output_type": "stream",
     "text": [
      "E-mail válido!\n"
     ]
    }
   ],
   "source": [
    "# Função para validar um e-mail:\n",
    "def valida_email(email):\n",
    "    if '@' in email and '.' in email:\n",
    "        return True \n",
    "    return False\n",
    "\n",
    "email = 'pvj.valadares@yahoo.com.br'\n",
    "if valida_email(email):\n",
    "    print(\"E-mail válido!\")\n",
    "else:\n",
    "    print(\"E-mail inválido!\")"
   ]
  },
  {
   "cell_type": "markdown",
   "metadata": {},
   "source": [
    "#### **Função para Calcular Desconto em uma Compra**\n",
    "Aplica um desconto percentual a um valor."
   ]
  },
  {
   "cell_type": "code",
   "execution_count": 29,
   "metadata": {},
   "outputs": [
    {
     "name": "stdout",
     "output_type": "stream",
     "text": [
      "Valor com desconto: R$ 900.00\n"
     ]
    }
   ],
   "source": [
    "# Função para calcular desconto(%) em uma compra\n",
    "def calc_desconto(valor, desconto):\n",
    "    valor_final = valor * (1 - desconto / 100)\n",
    "    return valor_final\n",
    "\n",
    "valor_original = 1000    # R$ 1000,00\n",
    "desconto = 10            # 10%\n",
    "\n",
    "valor_com_desconto = calc_desconto(valor_original, desconto)\n",
    "print(f'Valor com desconto: R$ {valor_com_desconto:.2f}')"
   ]
  },
  {
   "cell_type": "markdown",
   "metadata": {},
   "source": [
    "#### **Cálculo de Folha de Pagamento**\n",
    "Problema: Calcular o salário líquido de um funcionário, considerando descontos de INSS, IRRF e benefícios.\n",
    "\n",
    "Solução: Criar funções para calcular cada desconto e o salário líquido.\n",
    "\n",
    "\n",
    "\n",
    "*Para calcular realizar o cálculo do INSS usamos a formula `Salário X Alíquota % (o valor de dedução da parcela)`. A alíquota do INSS depende do salário.*"
   ]
  },
  {
   "cell_type": "code",
   "execution_count": 22,
   "metadata": {},
   "outputs": [
    {
     "name": "stdout",
     "output_type": "stream",
     "text": [
      "Seu salário líquido é de: 3510.0\n"
     ]
    }
   ],
   "source": [
    "def calcular_inss(salario_bruto):\n",
    "    if salario_bruto <= 1518:\n",
    "        aliquota = 7.5\n",
    "    elif salario_bruto <= 2666.68:\n",
    "        aliquota = 9 \n",
    "    elif salario_bruto <= 4000.03:\n",
    "        aliquota = 12\n",
    "    else:\n",
    "        aliquota = 14\n",
    "\n",
    "    desconto_inss = salario_bruto * (aliquota / 100)\n",
    "    return desconto_inss\n",
    "\n",
    "\n",
    "def calcular_irrf(salario_bruto):\n",
    "    if salario_bruto > 4664.68:\n",
    "        aliquota = 27.5                    \n",
    "    elif salario_bruto <= 2826.66:\n",
    "        aliquota = 7.5\n",
    "    elif salario_bruto <= 3751.06:\n",
    "        aliquota = 15\n",
    "    elif salario_bruto <= 4664.68:\n",
    "        aliquota = 22.5   \n",
    "    else:\n",
    "        aliquota = 0                    # isento de IRRF\n",
    "\n",
    "    desconto_irrf = salario_bruto * (aliquota / 100)\n",
    "    return desconto_irrf\n",
    "\n",
    "def calcula_salario_liquido(salario_bruto):\n",
    "    inss = calcular_inss(salario_bruto)\n",
    "    irrf = calcular_irrf(salario_bruto)\n",
    "    return salario_bruto - inss - irrf\n",
    "\n",
    "salario_bruto = 6000\n",
    "resultado = calcula_salario_liquido(salario_bruto)\n",
    "print(f'Seu salário líquido é de: {resultado}')"
   ]
  },
  {
   "cell_type": "markdown",
   "metadata": {},
   "source": [
    "#### **Calculo de Vendas**\n",
    "Problema: Calcular o total de vendas, a média de vendas por dia e identificar o dia com maior venda.\n",
    "\n",
    "Solução: Criar funções para cada cálculo."
   ]
  },
  {
   "cell_type": "code",
   "execution_count": 2,
   "metadata": {},
   "outputs": [
    {
     "name": "stdout",
     "output_type": "stream",
     "text": [
      "Total de vendas: 8230\n",
      "Média de vendas: 2057.5\n",
      "Maior venda: 3200\n"
     ]
    }
   ],
   "source": [
    "# Função que calcula algumas resultados para Vendas\n",
    "def total_vendas(venda):\n",
    "    soma = sum(venda)\n",
    "    return soma\n",
    "\n",
    "def media_vendas(venda):\n",
    "    media = sum(venda) / len(venda)\n",
    "    return media\n",
    "\n",
    "def maior_venda(venda):\n",
    "    maior = max(venda)\n",
    "    return maior\n",
    "\n",
    "vendas_diarias = [1000, 2050, 1980, 3200]         # em unidades\n",
    "print(f'Total de vendas: {total_vendas(vendas_diarias)}')\n",
    "print(f'Média de vendas: {media_vendas(vendas_diarias)}')\n",
    "print(f'Maior venda: {maior_venda(vendas_diarias)}')\n"
   ]
  },
  {
   "cell_type": "markdown",
   "metadata": {},
   "source": [
    "#### **Função para Filtrar Dados em uma Lista**\n",
    "\n",
    "Filtra números pares de uma lista."
   ]
  },
  {
   "cell_type": "code",
   "execution_count": 29,
   "metadata": {},
   "outputs": [
    {
     "name": "stdout",
     "output_type": "stream",
     "text": [
      "Números pares: [2, 4, 6, 8, 10, 12, 14]\n"
     ]
    }
   ],
   "source": [
    "def filtra_pares(lista):\n",
    "    pares = [num for num in lista if num % 2 == 0]\n",
    "    return pares\n",
    "\n",
    "lista = range(1,15)\n",
    "pares = filtra_pares(lista)\n",
    "print('Números pares: {}' .format(pares))"
   ]
  },
  {
   "cell_type": "markdown",
   "metadata": {},
   "source": [
    "#### **Gerenciamento de Estoque**\n",
    "Problema: Atualizar o estoque de produtos após uma venda.\n",
    "\n",
    "Solução: Criar uma função para subtrair a quantidade vendida do estoque."
   ]
  },
  {
   "cell_type": "code",
   "execution_count": 33,
   "metadata": {
    "slideshow": {
     "slide_type": "slide"
    }
   },
   "outputs": [
    {
     "name": "stdout",
     "output_type": "stream",
     "text": [
      "Estoque atualizado: {'camiseta': 40, 'calça': 30, 'sapato': 20}\n"
     ]
    }
   ],
   "source": [
    "def atualizar_estoque(estoque, produto, quantidade_vendida):\n",
    "    if produto in estoque:\n",
    "        estoque[produto] -= quantidade_vendida\n",
    "        if estoque[produto] < 0:\n",
    "            estoque[produto] = 0\n",
    "    return estoque\n",
    "\n",
    "# Uso\n",
    "estoque = {\"camiseta\": 50, \"calça\": 30, \"sapato\": 20}\n",
    "estoque = atualizar_estoque(estoque, \"camiseta\", 10)\n",
    "print(\"Estoque atualizado:\", estoque)"
   ]
  },
  {
   "cell_type": "markdown",
   "metadata": {},
   "source": [
    "#### **Automação de Relatórios**\n",
    "Problema: Gerar relatórios diários de vendas em formato CSV.\n",
    "\n",
    "Solução: Criar uma função para formatar e salvar os dados."
   ]
  },
  {
   "cell_type": "code",
   "execution_count": 32,
   "metadata": {},
   "outputs": [],
   "source": [
    "import csv\n",
    "\n",
    "def gerar_relatorio(vendas, arquivo):\n",
    "    with open(arquivo, mode=\"w\", newline=\"\") as file:\n",
    "        writer = csv.writer(file)\n",
    "        writer.writerow([\"Data\", \"Valor\"])\n",
    "        for data, valor in vendas.items():\n",
    "            writer.writerow([data, valor])\n",
    "\n",
    "# Uso\n",
    "vendas = {\"2023-10-01\": 1000, \"2023-10-02\": 1500, \"2023-10-03\": 800}\n",
    "gerar_relatorio(vendas, \"arq/relatorio_vendas.csv\")"
   ]
  }
 ],
 "metadata": {
  "kernelspec": {
   "display_name": "base",
   "language": "python",
   "name": "python3"
  },
  "language_info": {
   "codemirror_mode": {
    "name": "ipython",
    "version": 3
   },
   "file_extension": ".py",
   "mimetype": "text/x-python",
   "name": "python",
   "nbconvert_exporter": "python",
   "pygments_lexer": "ipython3",
   "version": "3.12.4"
  }
 },
 "nbformat": 4,
 "nbformat_minor": 2
}
